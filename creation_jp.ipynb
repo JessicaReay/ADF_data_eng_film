{
 "cells": [
  {
   "cell_type": "code",
   "execution_count": 2,
   "metadata": {},
   "outputs": [],
   "source": [
    "import pandas as pd\n",
    "from sqlalchemy import create_engine\n",
    "import configparser\n",
    "import io\n",
    "import boto3\n",
    "import psycopg2"
   ]
  },
  {
   "cell_type": "code",
   "execution_count": 3,
   "metadata": {},
   "outputs": [
    {
     "data": {
      "text/plain": [
       "['postgresql', 'aws_s3', 'csv']"
      ]
     },
     "execution_count": 3,
     "metadata": {},
     "output_type": "execute_result"
    }
   ],
   "source": [
    "config = configparser.ConfigParser()\n",
    "\n",
    "# read the configuration file\n",
    "config.read('multi_config.ini')\n",
    "\n",
    "# get all the connections\n",
    "config.sections()"
   ]
  },
  {
   "cell_type": "code",
   "execution_count": 4,
   "metadata": {},
   "outputs": [
    {
     "name": "stdout",
     "output_type": "stream",
     "text": [
      "Authentication successful \n",
      "\n",
      "The database is \"film_data\" and the service_name is \"s3\"\n"
     ]
    }
   ],
   "source": [
    "'''\n",
    "Authenticate the Postgres and S3 database by getting the credentials from the config file\n",
    "'''\n",
    "database = config.get('postgresql', 'database')\n",
    "user = config.get('postgresql', 'user')\n",
    "password = config.get('postgresql', 'password')\n",
    "host = config.get('postgresql', 'host')\n",
    "port = config.get('postgresql', 'port')\n",
    "\n",
    "# AWS Credentials\n",
    "service_name = config.get('aws_s3', 'service_name')\n",
    "region_name = config.get('aws_s3', 'region_name')\n",
    "aws_access_key_id = config.get('aws_s3', 'aws_access_key_id')\n",
    "aws_secret_access_key = config.get('aws_s3', 'aws_secret_access_key')\n",
    "s3_bucket = config.get('aws_s3', 's3_bucket')\n",
    "\n",
    "# check creditials\n",
    "print(\"Authentication successful \\n\")\n",
    "print(f'The database is \"{database}\" and the service_name is \"{service_name}\"')"
   ]
  },
  {
   "cell_type": "code",
   "execution_count": 10,
   "metadata": {},
   "outputs": [],
   "source": [
    "# load local csv into dataframe\n",
    "extracted_local_df = pd.read_csv('IMDB-Movie-Data-Local.csv') \n",
    "#load csv to dataframe to be loaded into postgres sql\n",
    "to_load_warehouse_df = pd.read_csv('IMDB-Movie-Data-Postgres.csv') "
   ]
  },
  {
   "cell_type": "code",
   "execution_count": 9,
   "metadata": {},
   "outputs": [
    {
     "name": "stdout",
     "output_type": "stream",
     "text": [
      "PostgreSQL Table, \"IMDB_movie_data\", has been created successfully.\n"
     ]
    }
   ],
   "source": [
    "## load to postgres\n",
    "# determine table name\n",
    "table_name = 'IMDB_movie_data'\n",
    "\n",
    "# Create an engine instance\n",
    "alchemyEngine = create_engine(f'postgresql+psycopg2://{user}:{password}@{host}/{database}', pool_recycle=3600)\n",
    "# Connect to PostgreSQL server\n",
    "dbConnection = alchemyEngine.connect()\n",
    "# Upload data to sql database\n",
    "to_load_warehouse_df.to_sql(table_name, dbConnection, if_exists='fail')\n",
    "print(f'PostgreSQL Table, \"{table_name}\", has been created successfully.')\n",
    "\n",
    "dbConnection.close()"
   ]
  },
  {
   "cell_type": "code",
   "execution_count": 8,
   "metadata": {},
   "outputs": [
    {
     "data": {
      "text/html": [
       "<div>\n",
       "<style scoped>\n",
       "    .dataframe tbody tr th:only-of-type {\n",
       "        vertical-align: middle;\n",
       "    }\n",
       "\n",
       "    .dataframe tbody tr th {\n",
       "        vertical-align: top;\n",
       "    }\n",
       "\n",
       "    .dataframe thead th {\n",
       "        text-align: right;\n",
       "    }\n",
       "</style>\n",
       "<table border=\"1\" class=\"dataframe\">\n",
       "  <thead>\n",
       "    <tr style=\"text-align: right;\">\n",
       "      <th></th>\n",
       "      <th>Title</th>\n",
       "      <th>Genre</th>\n",
       "      <th>Description</th>\n",
       "      <th>Director</th>\n",
       "    </tr>\n",
       "  </thead>\n",
       "  <tbody>\n",
       "    <tr>\n",
       "      <th>0</th>\n",
       "      <td>Guardians of the Galaxy</td>\n",
       "      <td>Action,Adventure,Sci-Fi</td>\n",
       "      <td>A group of intergalactic criminals are forced ...</td>\n",
       "      <td>James Gunn</td>\n",
       "    </tr>\n",
       "    <tr>\n",
       "      <th>1</th>\n",
       "      <td>Prometheus</td>\n",
       "      <td>Adventure,Mystery,Sci-Fi</td>\n",
       "      <td>Following clues to the origin of mankind, a te...</td>\n",
       "      <td>Ridley Scott</td>\n",
       "    </tr>\n",
       "    <tr>\n",
       "      <th>2</th>\n",
       "      <td>Split</td>\n",
       "      <td>Horror,Thriller</td>\n",
       "      <td>Three girls are kidnapped by a man with a diag...</td>\n",
       "      <td>M. Night Shyamalan</td>\n",
       "    </tr>\n",
       "    <tr>\n",
       "      <th>3</th>\n",
       "      <td>Sing</td>\n",
       "      <td>Animation,Comedy,Family</td>\n",
       "      <td>In a city of humanoid animals, a hustling thea...</td>\n",
       "      <td>Christophe Lourdelet</td>\n",
       "    </tr>\n",
       "    <tr>\n",
       "      <th>4</th>\n",
       "      <td>Suicide Squad</td>\n",
       "      <td>Action,Adventure,Fantasy</td>\n",
       "      <td>A secret government agency recruits some of th...</td>\n",
       "      <td>David Ayer</td>\n",
       "    </tr>\n",
       "    <tr>\n",
       "      <th>...</th>\n",
       "      <td>...</td>\n",
       "      <td>...</td>\n",
       "      <td>...</td>\n",
       "      <td>...</td>\n",
       "    </tr>\n",
       "    <tr>\n",
       "      <th>995</th>\n",
       "      <td>Secret in Their Eyes</td>\n",
       "      <td>Crime,Drama,Mystery</td>\n",
       "      <td>A tight-knit team of rising investigators, alo...</td>\n",
       "      <td>Billy Ray</td>\n",
       "    </tr>\n",
       "    <tr>\n",
       "      <th>996</th>\n",
       "      <td>Hostel: Part II</td>\n",
       "      <td>Horror</td>\n",
       "      <td>Three American college students studying abroa...</td>\n",
       "      <td>Eli Roth</td>\n",
       "    </tr>\n",
       "    <tr>\n",
       "      <th>997</th>\n",
       "      <td>Step Up 2: The Streets</td>\n",
       "      <td>Drama,Music,Romance</td>\n",
       "      <td>Romantic sparks occur between two dance studen...</td>\n",
       "      <td>Jon M. Chu</td>\n",
       "    </tr>\n",
       "    <tr>\n",
       "      <th>998</th>\n",
       "      <td>Search Party</td>\n",
       "      <td>Adventure,Comedy</td>\n",
       "      <td>A pair of friends embark on a mission to reuni...</td>\n",
       "      <td>Scot Armstrong</td>\n",
       "    </tr>\n",
       "    <tr>\n",
       "      <th>999</th>\n",
       "      <td>Nine Lives</td>\n",
       "      <td>Comedy,Family,Fantasy</td>\n",
       "      <td>A stuffy businessman finds himself trapped ins...</td>\n",
       "      <td>Barry Sonnenfeld</td>\n",
       "    </tr>\n",
       "  </tbody>\n",
       "</table>\n",
       "<p>1000 rows × 4 columns</p>\n",
       "</div>"
      ],
      "text/plain": [
       "                       Title                     Genre  \\\n",
       "0    Guardians of the Galaxy   Action,Adventure,Sci-Fi   \n",
       "1                 Prometheus  Adventure,Mystery,Sci-Fi   \n",
       "2                      Split           Horror,Thriller   \n",
       "3                       Sing   Animation,Comedy,Family   \n",
       "4              Suicide Squad  Action,Adventure,Fantasy   \n",
       "..                       ...                       ...   \n",
       "995     Secret in Their Eyes       Crime,Drama,Mystery   \n",
       "996          Hostel: Part II                    Horror   \n",
       "997   Step Up 2: The Streets       Drama,Music,Romance   \n",
       "998             Search Party          Adventure,Comedy   \n",
       "999               Nine Lives     Comedy,Family,Fantasy   \n",
       "\n",
       "                                           Description              Director  \n",
       "0    A group of intergalactic criminals are forced ...            James Gunn  \n",
       "1    Following clues to the origin of mankind, a te...          Ridley Scott  \n",
       "2    Three girls are kidnapped by a man with a diag...    M. Night Shyamalan  \n",
       "3    In a city of humanoid animals, a hustling thea...  Christophe Lourdelet  \n",
       "4    A secret government agency recruits some of th...            David Ayer  \n",
       "..                                                 ...                   ...  \n",
       "995  A tight-knit team of rising investigators, alo...             Billy Ray  \n",
       "996  Three American college students studying abroa...              Eli Roth  \n",
       "997  Romantic sparks occur between two dance studen...            Jon M. Chu  \n",
       "998  A pair of friends embark on a mission to reuni...        Scot Armstrong  \n",
       "999  A stuffy businessman finds himself trapped ins...      Barry Sonnenfeld  \n",
       "\n",
       "[1000 rows x 4 columns]"
      ]
     },
     "execution_count": 8,
     "metadata": {},
     "output_type": "execute_result"
    }
   ],
   "source": [
    "## extract from s3\n",
    "s3_resource = boto3.resource(\n",
    "    service_name = service_name,\n",
    "    region_name = region_name, \n",
    "    aws_access_key_id = aws_access_key_id,\n",
    "    aws_secret_access_key=aws_secret_access_key\n",
    ")\n",
    "\n",
    "string_io = io.BytesIO()\n",
    "s3_resource.Object(s3_bucket, \"IMDB-Movie-Data-S3.csv\").download_fileobj(string_io)\n",
    "s3_contents = string_io.getvalue()\n",
    "\n",
    "extracted_datalake_df = pd.read_csv(io.BytesIO(s3_contents))\n",
    "extracted_datalake_df"
   ]
  },
  {
   "cell_type": "code",
   "execution_count": 11,
   "metadata": {},
   "outputs": [
    {
     "name": "stdout",
     "output_type": "stream",
     "text": [
      "PostgreSQL connection is closed\n"
     ]
    }
   ],
   "source": [
    "## extract from postgres sql\n",
    "# Create an engine instance\n",
    "alchemyEngine = create_engine(f'postgresql+psycopg2://{user}:{password}@{host}/{database}', pool_recycle=3600);\n",
    "\n",
    "# Connect to PostgreSQL server\n",
    "dbConnection = alchemyEngine.connect();\n",
    "\n",
    "# Read data from PostgreSQL database table and load into a DataFrame instance\n",
    "sql = f\"select * from \\\"{table_name}\\\"\"\n",
    "extracted_warehouse_df = pd.read_sql(sql, dbConnection);\n",
    "pd.set_option('display.expand_frame_repr', False);\n",
    "\n",
    "if dbConnection:\n",
    "    dbConnection.close()\n",
    "print(\"PostgreSQL connection is closed\")"
   ]
  }
 ],
 "metadata": {
  "kernelspec": {
   "display_name": "Python 3.10.7 64-bit (microsoft store)",
   "language": "python",
   "name": "python3"
  },
  "language_info": {
   "codemirror_mode": {
    "name": "ipython",
    "version": 3
   },
   "file_extension": ".py",
   "mimetype": "text/x-python",
   "name": "python",
   "nbconvert_exporter": "python",
   "pygments_lexer": "ipython3",
   "version": "3.10.7"
  },
  "orig_nbformat": 4,
  "vscode": {
   "interpreter": {
    "hash": "ac86d215dea9a0cdf4bbda73266032985b78d84038a3539ec44e8b053ab6c7d7"
   }
  }
 },
 "nbformat": 4,
 "nbformat_minor": 2
}

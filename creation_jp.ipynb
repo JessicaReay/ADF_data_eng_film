{
 "cells": [
  {
   "cell_type": "markdown",
   "metadata": {},
   "source": [
    "Import neccessary python libraries"
   ]
  },
  {
   "cell_type": "code",
   "execution_count": 3,
   "metadata": {},
   "outputs": [],
   "source": [
    "import pandas as pd\n",
    "from sqlalchemy import create_engine\n",
    "import configparser\n",
    "import io\n",
    "import boto3\n",
    "import psycopg2\n",
    "import openpyxl"
   ]
  },
  {
   "cell_type": "markdown",
   "metadata": {},
   "source": [
    "Manual collection of configs"
   ]
  },
  {
   "cell_type": "code",
   "execution_count": 4,
   "metadata": {},
   "outputs": [
    {
     "data": {
      "text/plain": [
       "['postgresql', 'aws_s3', 'csv', 'stmp']"
      ]
     },
     "execution_count": 4,
     "metadata": {},
     "output_type": "execute_result"
    }
   ],
   "source": [
    "config = configparser.ConfigParser()\n",
    "\n",
    "# read the configuration file\n",
    "config.read('multi_config.ini')\n",
    "\n",
    "# get all the connections\n",
    "config.sections()"
   ]
  },
  {
   "cell_type": "code",
   "execution_count": 5,
   "metadata": {},
   "outputs": [
    {
     "name": "stdout",
     "output_type": "stream",
     "text": [
      "Authentication successful \n",
      "\n",
      "The database is \"film_data\" and the service_name is \"s3\" and local path is \"data_files/IMDB-Movie-Data-Local.csv\"\n"
     ]
    }
   ],
   "source": [
    "### Manual collection of credentials\n",
    "'''\n",
    "Authenticate the Postgres and S3 database by getting the credentials from the config file\n",
    "'''\n",
    "# Postgres SQL Credentials \n",
    "database = config.get('postgresql', 'database')\n",
    "user = config.get('postgresql', 'user')\n",
    "password = config.get('postgresql', 'password')\n",
    "host = config.get('postgresql', 'host')\n",
    "port = config.get('postgresql', 'port')\n",
    "\n",
    "# AWS Credentials\n",
    "service_name = config.get('aws_s3', 'service_name')\n",
    "region_name = config.get('aws_s3', 'region_name')\n",
    "aws_access_key_id = config.get('aws_s3', 'aws_access_key_id')\n",
    "aws_secret_access_key = config.get('aws_s3', 'aws_secret_access_key')\n",
    "s3_bucket = config.get('aws_s3', 's3_bucket')\n",
    "\n",
    "# Local Credentials\n",
    "local_file_path = config.get('csv', 'source')\n",
    "\n",
    "# check creditials\n",
    "print(\"Authentication successful \\n\")\n",
    "print(f'The database is \"{database}\" and the service_name is \"{service_name}\" and local path is \"{local_file_path}\"')"
   ]
  },
  {
   "cell_type": "markdown",
   "metadata": {},
   "source": [
    "Automated collection of config"
   ]
  },
  {
   "cell_type": "code",
   "execution_count": 27,
   "metadata": {},
   "outputs": [],
   "source": [
    "##creation of function for credentials for authentication file\n",
    "def get_credentials(sections, credentials):\n",
    "\n",
    "    config = configparser.ConfigParser()\n",
    "\n",
    "    config.read('multi_config.ini')\n",
    "\n",
    "    collect_config = {}\n",
    "\n",
    "    for i, section in enumerate(sections):\n",
    "        section_credentials = []\n",
    "        for credential in credentials[i]:\n",
    "            section_credentials.append(config.get(section, credential))\n",
    "        collect_config[f\"{section}\"] = section_credentials\n",
    "    \n",
    "    return collect_config"
   ]
  },
  {
   "cell_type": "code",
   "execution_count": 28,
   "metadata": {},
   "outputs": [],
   "source": [
    "if __name__ == \"__main__\": \n",
    "    sections = [\"postgresql\", \"aws_s3\", \"csv\", \"stmp\"]\n",
    "    credential_names = [\n",
    "        [\"database\", \"user\", \"password\", \"host\", \"port\"], \n",
    "        [\"service_name\", \"region_name\", \"aws_access_key_id\", \"aws_secret_access_key\", \"s3_bucket\"],\n",
    "        [\"source\", \"target\"],\n",
    "        [\"smtp_port\", \"smtp_server\", \"smtp_sender_email\", \"smtp_receiver_email\", \"smtp_password\"]\n",
    "    ]\n",
    "credentials = get_credentials(sections, credential_names)"
   ]
  },
  {
   "cell_type": "code",
   "execution_count": 29,
   "metadata": {},
   "outputs": [
    {
     "data": {
      "text/plain": [
       "['film_data', 'postgres', 'Slough20', '127.0.0.1', '5432']"
      ]
     },
     "execution_count": 29,
     "metadata": {},
     "output_type": "execute_result"
    }
   ],
   "source": [
    "section = \"postgresql\"\n",
    "credential_names = [\"database\", \"user\", \"password\", \"host\", \"port\"]\n",
    "credentials = get_credentials([section], [credential_names])[section]\n",
    "\n",
    "credentials1 = get_credentials([section], [credential_names])[section]\n",
    "credentials1"
   ]
  },
  {
   "cell_type": "code",
   "execution_count": 20,
   "metadata": {},
   "outputs": [],
   "source": [
    "if None not in credentials and \"\" not in credentials:\n",
    "    database, user, password, host, port = credentials"
   ]
  },
  {
   "cell_type": "code",
   "execution_count": 30,
   "metadata": {},
   "outputs": [
    {
     "name": "stdout",
     "output_type": "stream",
     "text": [
      "Getting credentials...\n"
     ]
    },
    {
     "ename": "NoOptionError",
     "evalue": "No option 'd' in section: 'postgresql'",
     "output_type": "error",
     "traceback": [
      "\u001b[1;31m---------------------------------------------------------------------------\u001b[0m",
      "\u001b[1;31mKeyError\u001b[0m                                  Traceback (most recent call last)",
      "File \u001b[1;32mC:\\Program Files\\WindowsApps\\PythonSoftwareFoundation.Python.3.10_3.10.2032.0_x64__qbz5n2kfra8p0\\lib\\configparser.py:790\u001b[0m, in \u001b[0;36mRawConfigParser.get\u001b[1;34m(self, section, option, raw, vars, fallback)\u001b[0m\n\u001b[0;32m    789\u001b[0m \u001b[39mtry\u001b[39;00m:\n\u001b[1;32m--> 790\u001b[0m     value \u001b[39m=\u001b[39m d[option]\n\u001b[0;32m    791\u001b[0m \u001b[39mexcept\u001b[39;00m \u001b[39mKeyError\u001b[39;00m:\n",
      "File \u001b[1;32mC:\\Program Files\\WindowsApps\\PythonSoftwareFoundation.Python.3.10_3.10.2032.0_x64__qbz5n2kfra8p0\\lib\\collections\\__init__.py:986\u001b[0m, in \u001b[0;36mChainMap.__getitem__\u001b[1;34m(self, key)\u001b[0m\n\u001b[0;32m    985\u001b[0m         \u001b[39mpass\u001b[39;00m\n\u001b[1;32m--> 986\u001b[0m \u001b[39mreturn\u001b[39;00m \u001b[39mself\u001b[39;49m\u001b[39m.\u001b[39;49m\u001b[39m__missing__\u001b[39;49m(key)\n",
      "File \u001b[1;32mC:\\Program Files\\WindowsApps\\PythonSoftwareFoundation.Python.3.10_3.10.2032.0_x64__qbz5n2kfra8p0\\lib\\collections\\__init__.py:978\u001b[0m, in \u001b[0;36mChainMap.__missing__\u001b[1;34m(self, key)\u001b[0m\n\u001b[0;32m    977\u001b[0m \u001b[39mdef\u001b[39;00m \u001b[39m__missing__\u001b[39m(\u001b[39mself\u001b[39m, key):\n\u001b[1;32m--> 978\u001b[0m     \u001b[39mraise\u001b[39;00m \u001b[39mKeyError\u001b[39;00m(key)\n",
      "\u001b[1;31mKeyError\u001b[0m: 'd'",
      "\nDuring handling of the above exception, another exception occurred:\n",
      "\u001b[1;31mNoOptionError\u001b[0m                             Traceback (most recent call last)",
      "Cell \u001b[1;32mIn [30], line 3\u001b[0m\n\u001b[0;32m      1\u001b[0m \u001b[38;5;66;03m# ensuring that the credentials were successful \u001b[39;00m\n\u001b[0;32m      2\u001b[0m \u001b[38;5;28mprint\u001b[39m(\u001b[38;5;124m\"\u001b[39m\u001b[38;5;124mGetting credentials...\u001b[39m\u001b[38;5;124m\"\u001b[39m)\n\u001b[1;32m----> 3\u001b[0m credentials \u001b[38;5;241m=\u001b[39m get_credentials(sections, credential_names)\n\u001b[0;32m      4\u001b[0m \u001b[38;5;28mprint\u001b[39m(\u001b[38;5;124m\"\u001b[39m\u001b[38;5;124mCollection of credentials were successful!\u001b[39m\u001b[38;5;124m\"\u001b[39m)\n\u001b[0;32m      5\u001b[0m database, user, password, host, port \u001b[38;5;241m=\u001b[39m credentials[sections[\u001b[38;5;241m0\u001b[39m]]\n",
      "Cell \u001b[1;32mIn [27], line 13\u001b[0m, in \u001b[0;36mget_credentials\u001b[1;34m(sections, credentials)\u001b[0m\n\u001b[0;32m     11\u001b[0m     section_credentials \u001b[38;5;241m=\u001b[39m []\n\u001b[0;32m     12\u001b[0m     \u001b[38;5;28;01mfor\u001b[39;00m credential \u001b[38;5;129;01min\u001b[39;00m credentials[i]:\n\u001b[1;32m---> 13\u001b[0m         section_credentials\u001b[38;5;241m.\u001b[39mappend(\u001b[43mconfig\u001b[49m\u001b[38;5;241;43m.\u001b[39;49m\u001b[43mget\u001b[49m\u001b[43m(\u001b[49m\u001b[43msection\u001b[49m\u001b[43m,\u001b[49m\u001b[43m \u001b[49m\u001b[43mcredential\u001b[49m\u001b[43m)\u001b[49m)\n\u001b[0;32m     14\u001b[0m     collect_config[\u001b[38;5;124mf\u001b[39m\u001b[38;5;124m\"\u001b[39m\u001b[38;5;132;01m{\u001b[39;00msection\u001b[38;5;132;01m}\u001b[39;00m\u001b[38;5;124m\"\u001b[39m] \u001b[38;5;241m=\u001b[39m section_credentials\n\u001b[0;32m     16\u001b[0m \u001b[38;5;28;01mreturn\u001b[39;00m collect_config\n",
      "File \u001b[1;32mC:\\Program Files\\WindowsApps\\PythonSoftwareFoundation.Python.3.10_3.10.2032.0_x64__qbz5n2kfra8p0\\lib\\configparser.py:793\u001b[0m, in \u001b[0;36mRawConfigParser.get\u001b[1;34m(self, section, option, raw, vars, fallback)\u001b[0m\n\u001b[0;32m    791\u001b[0m \u001b[39mexcept\u001b[39;00m \u001b[39mKeyError\u001b[39;00m:\n\u001b[0;32m    792\u001b[0m     \u001b[39mif\u001b[39;00m fallback \u001b[39mis\u001b[39;00m _UNSET:\n\u001b[1;32m--> 793\u001b[0m         \u001b[39mraise\u001b[39;00m NoOptionError(option, section)\n\u001b[0;32m    794\u001b[0m     \u001b[39melse\u001b[39;00m:\n\u001b[0;32m    795\u001b[0m         \u001b[39mreturn\u001b[39;00m fallback\n",
      "\u001b[1;31mNoOptionError\u001b[0m: No option 'd' in section: 'postgresql'"
     ]
    }
   ],
   "source": [
    "# ensuring that the credentials were successful \n",
    "print(\"Getting credentials...\")\n",
    "credentials = get_credentials(sections, credential_names)\n",
    "print(\"Collection of credentials were successful!\")\n",
    "database, user, password, host, port = credentials[sections[0]]\n",
    "print(\"Successful Warehouse (Postgres SQL) credentials collection\")\n",
    "service_name, region_name, aws_access_key_id, aws_secret_access_key, s3_bucket = credentials[sections[1]]\n",
    "print(\"Sucessful Datalake (AWS S3) credentials collection\")\n",
    "print(database, user, password, host, port, service_name, region_name, aws_access_key_id, aws_secret_access_key)\n",
    "source, target = credentials[sections[2]]\n",
    "print(\"Successful Local (CSV) credentials collection\")\n",
    "smtp_port, smtp_server, smtp_sender_email, smtp_receiver_email, smtp_password = credentials[sections[3]]\n",
    "print(\"Sucessful Email (smtp) credentials collection\")\n",
    "print(database, user, password, host, port, service_name, region_name, aws_access_key_id, aws_secret_access_key, s3_bucket, source, target, smtp_port, smtp_server, smtp_sender_email, smtp_receiver_email, smtp_password)"
   ]
  },
  {
   "cell_type": "code",
   "execution_count": null,
   "metadata": {},
   "outputs": [],
   "source": [
    "local_credentials = get_credentials(sections, credential_names)"
   ]
  },
  {
   "cell_type": "markdown",
   "metadata": {},
   "source": [
    "Manual Extract "
   ]
  },
  {
   "cell_type": "code",
   "execution_count": 169,
   "metadata": {},
   "outputs": [],
   "source": [
    "# load local csv into dataframe\n",
    "extracted_local_df = pd.read_csv(local_file_path) \n",
    "#load csv to dataframe to be loaded into postgres sql\n",
    "to_load_warehouse_df = pd.read_csv('data_files/IMDB-Movie-Data-Postgres.csv') "
   ]
  },
  {
   "cell_type": "code",
   "execution_count": 1,
   "metadata": {},
   "outputs": [
    {
     "ename": "NameError",
     "evalue": "name 'create_engine' is not defined",
     "output_type": "error",
     "traceback": [
      "\u001b[1;31m---------------------------------------------------------------------------\u001b[0m",
      "\u001b[1;31mNameError\u001b[0m                                 Traceback (most recent call last)",
      "Cell \u001b[1;32mIn [1], line 6\u001b[0m\n\u001b[0;32m      3\u001b[0m table_name \u001b[38;5;241m=\u001b[39m \u001b[38;5;124m'\u001b[39m\u001b[38;5;124mIMDB_movie_data\u001b[39m\u001b[38;5;124m'\u001b[39m\n\u001b[0;32m      5\u001b[0m \u001b[38;5;66;03m# Create an engine instance\u001b[39;00m\n\u001b[1;32m----> 6\u001b[0m alchemyEngine \u001b[38;5;241m=\u001b[39m create_engine(\u001b[38;5;124mf\u001b[39m\u001b[38;5;124m'\u001b[39m\u001b[38;5;124mpostgresql+psycopg2://\u001b[39m\u001b[38;5;132;01m{\u001b[39;00muser\u001b[38;5;132;01m}\u001b[39;00m\u001b[38;5;124m:\u001b[39m\u001b[38;5;132;01m{\u001b[39;00mpassword\u001b[38;5;132;01m}\u001b[39;00m\u001b[38;5;124m@\u001b[39m\u001b[38;5;132;01m{\u001b[39;00mhost\u001b[38;5;132;01m}\u001b[39;00m\u001b[38;5;124m/\u001b[39m\u001b[38;5;132;01m{\u001b[39;00mdatabase\u001b[38;5;132;01m}\u001b[39;00m\u001b[38;5;124m'\u001b[39m, pool_recycle\u001b[38;5;241m=\u001b[39m\u001b[38;5;241m3600\u001b[39m)\n\u001b[0;32m      7\u001b[0m \u001b[38;5;66;03m# Connect to PostgreSQL server\u001b[39;00m\n\u001b[0;32m      8\u001b[0m dbConnection \u001b[38;5;241m=\u001b[39m alchemyEngine\u001b[38;5;241m.\u001b[39mconnect()\n",
      "\u001b[1;31mNameError\u001b[0m: name 'create_engine' is not defined"
     ]
    }
   ],
   "source": [
    "## load to postgres\n",
    "# determine table name\n",
    "table_name = 'IMDB_movie_data'\n",
    "\n",
    "# Create an engine instance\n",
    "alchemyEngine = create_engine(f'postgresql+psycopg2://{user}:{password}@{host}/{database}', pool_recycle=3600)\n",
    "# Connect to PostgreSQL server\n",
    "dbConnection = alchemyEngine.connect()\n",
    "# Upload data to sql database\n",
    "to_load_warehouse_df.to_sql(table_name, dbConnection, if_exists='fail')\n",
    "print(f'PostgreSQL Table, \"{table_name}\", has been created successfully.')\n",
    "\n",
    "dbConnection.close()"
   ]
  },
  {
   "cell_type": "code",
   "execution_count": null,
   "metadata": {},
   "outputs": [],
   "source": [
    "def load_warehouse_df(df, table_name):\n",
    "    section = \"postgresql\"\n",
    "    credential_names = [\"database\", \"user\", \"password\", \"host\", \"port\"]\n",
    "    credentials = get_credentials([section], [credential_names])[section]\n",
    "\n",
    "    if None not in credentials and \"\" not in credentials:\n",
    "        database, user, password, host, port = credentials\n",
    "\n",
    "        try:\n",
    "            # Create an engine instance\n",
    "            alchemyEngine = create_engine(f'postgresql+psycopg2://{user}:{password}@{host}/{database}', pool_recycle=3600)\n",
    "            # Connect to PostgreSQL server\n",
    "            dbConnection = alchemyEngine.connect()\n",
    "            # Upload data to sql database\n",
    "            df.to_sql(table_name, dbConnection, if_exists='fail')\n",
    "            print(f'PostgreSQL Table, \"{table_name}\", has been created successfully.')\n",
    "\n",
    "        finally:\n",
    "            dbConnection.close()\n",
    "\n",
    "    else:\n",
    "        raise Exception(\"Upload failed: error with credentials\")\n",
    "\n",
    "\n",
    "def load_datalake(file_name):\n",
    "\n",
    "    section = \"aws_s3\"\n",
    "    credential_names = [\"service_name\", \"region_name\", \"aws_access_key_id\", \"aws_secret_access_key\", \"s3_bucket\"]\n",
    "    credentials = get_credentials([section], [credential_names])[section]\n",
    "\n",
    "    if None not in credentials and \"\" not in credentials:\n",
    "        service_name, region_name, aws_access_key_id, aws_secret_access_key, s3_bucket = credentials\n",
    "        \n",
    "        s3_resource = boto3.resource(\n",
    "            service_name=service_name,\n",
    "            region_name=region_name,\n",
    "            aws_access_key_id=aws_access_key_id,\n",
    "            aws_secret_access_key=aws_secret_access_key\n",
    "        )\n",
    "\n",
    "        s3_resource.Object(s3_bucket, \"data_files\\IMDB-Movie-Data-S3.csv\").upload_file(file_name)\n",
    "    \n",
    "    else:\n",
    "        raise Exception(\"Upload failed: error with credentials\")\n",
    "\n"
   ]
  },
  {
   "cell_type": "code",
   "execution_count": 171,
   "metadata": {},
   "outputs": [
    {
     "data": {
      "text/html": [
       "<div>\n",
       "<style scoped>\n",
       "    .dataframe tbody tr th:only-of-type {\n",
       "        vertical-align: middle;\n",
       "    }\n",
       "\n",
       "    .dataframe tbody tr th {\n",
       "        vertical-align: top;\n",
       "    }\n",
       "\n",
       "    .dataframe thead th {\n",
       "        text-align: right;\n",
       "    }\n",
       "</style>\n",
       "<table border=\"1\" class=\"dataframe\">\n",
       "  <thead>\n",
       "    <tr style=\"text-align: right;\">\n",
       "      <th></th>\n",
       "      <th>Title</th>\n",
       "      <th>Genre</th>\n",
       "      <th>Description</th>\n",
       "      <th>Director</th>\n",
       "    </tr>\n",
       "  </thead>\n",
       "  <tbody>\n",
       "    <tr>\n",
       "      <th>0</th>\n",
       "      <td>Guardians of the Galaxy</td>\n",
       "      <td>Action,Adventure,Sci-Fi</td>\n",
       "      <td>A group of intergalactic criminals are forced ...</td>\n",
       "      <td>James Gunn</td>\n",
       "    </tr>\n",
       "    <tr>\n",
       "      <th>1</th>\n",
       "      <td>Prometheus</td>\n",
       "      <td>Adventure,Mystery,Sci-Fi</td>\n",
       "      <td>Following clues to the origin of mankind, a te...</td>\n",
       "      <td>Ridley Scott</td>\n",
       "    </tr>\n",
       "    <tr>\n",
       "      <th>2</th>\n",
       "      <td>Split</td>\n",
       "      <td>Horror,Thriller</td>\n",
       "      <td>Three girls are kidnapped by a man with a diag...</td>\n",
       "      <td>M. Night Shyamalan</td>\n",
       "    </tr>\n",
       "    <tr>\n",
       "      <th>3</th>\n",
       "      <td>Sing</td>\n",
       "      <td>Animation,Comedy,Family</td>\n",
       "      <td>In a city of humanoid animals, a hustling thea...</td>\n",
       "      <td>Christophe Lourdelet</td>\n",
       "    </tr>\n",
       "    <tr>\n",
       "      <th>4</th>\n",
       "      <td>Suicide Squad</td>\n",
       "      <td>Action,Adventure,Fantasy</td>\n",
       "      <td>A secret government agency recruits some of th...</td>\n",
       "      <td>David Ayer</td>\n",
       "    </tr>\n",
       "    <tr>\n",
       "      <th>...</th>\n",
       "      <td>...</td>\n",
       "      <td>...</td>\n",
       "      <td>...</td>\n",
       "      <td>...</td>\n",
       "    </tr>\n",
       "    <tr>\n",
       "      <th>995</th>\n",
       "      <td>Secret in Their Eyes</td>\n",
       "      <td>Crime,Drama,Mystery</td>\n",
       "      <td>A tight-knit team of rising investigators, alo...</td>\n",
       "      <td>Billy Ray</td>\n",
       "    </tr>\n",
       "    <tr>\n",
       "      <th>996</th>\n",
       "      <td>Hostel: Part II</td>\n",
       "      <td>Horror</td>\n",
       "      <td>Three American college students studying abroa...</td>\n",
       "      <td>Eli Roth</td>\n",
       "    </tr>\n",
       "    <tr>\n",
       "      <th>997</th>\n",
       "      <td>Step Up 2: The Streets</td>\n",
       "      <td>Drama,Music,Romance</td>\n",
       "      <td>Romantic sparks occur between two dance studen...</td>\n",
       "      <td>Jon M. Chu</td>\n",
       "    </tr>\n",
       "    <tr>\n",
       "      <th>998</th>\n",
       "      <td>Search Party</td>\n",
       "      <td>Adventure,Comedy</td>\n",
       "      <td>A pair of friends embark on a mission to reuni...</td>\n",
       "      <td>Scot Armstrong</td>\n",
       "    </tr>\n",
       "    <tr>\n",
       "      <th>999</th>\n",
       "      <td>Nine Lives</td>\n",
       "      <td>Comedy,Family,Fantasy</td>\n",
       "      <td>A stuffy businessman finds himself trapped ins...</td>\n",
       "      <td>Barry Sonnenfeld</td>\n",
       "    </tr>\n",
       "  </tbody>\n",
       "</table>\n",
       "<p>1000 rows × 4 columns</p>\n",
       "</div>"
      ],
      "text/plain": [
       "                       Title                     Genre                                        Description              Director\n",
       "0    Guardians of the Galaxy   Action,Adventure,Sci-Fi  A group of intergalactic criminals are forced ...            James Gunn\n",
       "1                 Prometheus  Adventure,Mystery,Sci-Fi  Following clues to the origin of mankind, a te...          Ridley Scott\n",
       "2                      Split           Horror,Thriller  Three girls are kidnapped by a man with a diag...    M. Night Shyamalan\n",
       "3                       Sing   Animation,Comedy,Family  In a city of humanoid animals, a hustling thea...  Christophe Lourdelet\n",
       "4              Suicide Squad  Action,Adventure,Fantasy  A secret government agency recruits some of th...            David Ayer\n",
       "..                       ...                       ...                                                ...                   ...\n",
       "995     Secret in Their Eyes       Crime,Drama,Mystery  A tight-knit team of rising investigators, alo...             Billy Ray\n",
       "996          Hostel: Part II                    Horror  Three American college students studying abroa...              Eli Roth\n",
       "997   Step Up 2: The Streets       Drama,Music,Romance  Romantic sparks occur between two dance studen...            Jon M. Chu\n",
       "998             Search Party          Adventure,Comedy  A pair of friends embark on a mission to reuni...        Scot Armstrong\n",
       "999               Nine Lives     Comedy,Family,Fantasy  A stuffy businessman finds himself trapped ins...      Barry Sonnenfeld\n",
       "\n",
       "[1000 rows x 4 columns]"
      ]
     },
     "execution_count": 171,
     "metadata": {},
     "output_type": "execute_result"
    }
   ],
   "source": [
    "## extract from s3\n",
    "s3_resource = boto3.resource(\n",
    "    service_name = service_name,\n",
    "    region_name = region_name, \n",
    "    aws_access_key_id = aws_access_key_id,\n",
    "    aws_secret_access_key=aws_secret_access_key\n",
    ")\n",
    "\n",
    "string_io = io.BytesIO()\n",
    "s3_resource.Object(s3_bucket, \"IMDB-Movie-Data-S3.csv\").download_fileobj(string_io)\n",
    "s3_contents = string_io.getvalue()\n",
    "\n",
    "extracted_datalake_df = pd.read_csv(io.BytesIO(s3_contents))\n",
    "extracted_datalake_df"
   ]
  },
  {
   "cell_type": "code",
   "execution_count": 172,
   "metadata": {},
   "outputs": [
    {
     "name": "stdout",
     "output_type": "stream",
     "text": [
      "PostgreSQL connection is closed\n"
     ]
    }
   ],
   "source": [
    "## extract from postgres sql\n",
    "# Create an engine instance\n",
    "alchemyEngine = create_engine(f'postgresql+psycopg2://{user}:{password}@{host}/{database}', pool_recycle=3600);\n",
    "\n",
    "# Connect to PostgreSQL server\n",
    "dbConnection = alchemyEngine.connect();\n",
    "\n",
    "# Read data from PostgreSQL database table and load into a DataFrame instance\n",
    "sql = f\"select * from \\\"{table_name}\\\"\"\n",
    "extracted_warehouse_df = pd.read_sql(sql, dbConnection);\n",
    "pd.set_option('display.expand_frame_repr', False);\n",
    "\n",
    "if dbConnection:\n",
    "    dbConnection.close()\n",
    "print(\"PostgreSQL connection is closed\")"
   ]
  },
  {
   "cell_type": "markdown",
   "metadata": {},
   "source": [
    "Automation of extract"
   ]
  },
  {
   "cell_type": "code",
   "execution_count": 238,
   "metadata": {},
   "outputs": [],
   "source": [
    "sections = [\"postgresql\", \"aws_s3\", \"csv\"]\n",
    "credential_names = [\n",
    "    [\"database\", \"user\", \"password\", \"host\", \"port\"], \n",
    "    [\"service_name\", \"region_name\", \"aws_access_key_id\", \"aws_secret_access_key\", \"s3_bucket\"],\n",
    "    [\"source\", \"target\"]\n",
    "]\n",
    "\n",
    "credentials = get_credentials(sections, credential_names)\n",
    "\n",
    "warehouse_credentials = credentials[sections[0]]\n",
    "datalake_credentials = credentials[sections[1]]\n",
    "local_credentials = credentials[sections[2]]"
   ]
  },
  {
   "cell_type": "code",
   "execution_count": 239,
   "metadata": {},
   "outputs": [],
   "source": [
    "def warehouse_extraction(table, database, user, password, host):\n",
    "        try:\n",
    "            # Create an engine instance\n",
    "            alchemyEngine = create_engine(f'postgresql+psycopg2://{user}:{password}@{host}/{database}', pool_recycle=3600)\n",
    "\n",
    "            # Connect to PostgreSQL server\n",
    "            dbConnection = alchemyEngine.connect()\n",
    "\n",
    "            # Read data from PostgreSQL database table and load into a DataFrame instance\n",
    "            sql = f\"select * from \\\"{table}\\\"\"\n",
    "            warehouse_df = pd.read_sql(sql, dbConnection)\n",
    "\n",
    "        finally:\n",
    "            dbConnection.close()\n",
    "        \n",
    "        return warehouse_df"
   ]
  },
  {
   "cell_type": "code",
   "execution_count": 240,
   "metadata": {},
   "outputs": [],
   "source": [
    "# Postgres\n",
    "if None not in warehouse_credentials and \"\" not in warehouse_credentials:\n",
    "    database, user, password, host, port = warehouse_credentials\n",
    "    warehouse_df = warehouse_extraction(\"IMDB_movie_data\", database, user, password, host)\n",
    "else:\n",
    "    raise Exception(\"Extraction failed: error with DB credentials\")\n",
    "    "
   ]
  },
  {
   "cell_type": "code",
   "execution_count": 249,
   "metadata": {},
   "outputs": [],
   "source": [
    "def datalake_extraction(file_name, service_name, region_name, aws_access_key_id, aws_secret_access_key, s3_bucket):\n",
    "    \n",
    "    s3_resource = boto3.resource(\n",
    "        service_name=service_name,\n",
    "        region_name=region_name,\n",
    "        aws_access_key_id=aws_access_key_id,\n",
    "        aws_secret_access_key=aws_secret_access_key\n",
    "    )\n",
    "\n",
    "    string_io = io.BytesIO()\n",
    "    s3_resource.Object(s3_bucket, file_name).download_fileobj(string_io)\n",
    "    s3_contents = string_io.getvalue()\n",
    "    \n",
    "    datalake_df = pd.read_csv(io.BytesIO(s3_contents))\n",
    "    return datalake_df\n"
   ]
  },
  {
   "cell_type": "code",
   "execution_count": 250,
   "metadata": {},
   "outputs": [],
   "source": [
    "# AWS S3\n",
    "if None not in datalake_credentials and \"\" not in datalake_credentials: \n",
    "    service_name, region_name, aws_access_key_id, aws_secret_access_key, s3_bucket = datalake_credentials\n",
    "    datalake_df = datalake_extraction(\"IMDB-Movie-Data-S3.csv\", service_name, region_name, aws_access_key_id, aws_secret_access_key, s3_bucket)\n",
    "else:\n",
    "    raise Exception(\"Extraction failed: error with DB credentials\")"
   ]
  },
  {
   "cell_type": "code",
   "execution_count": 243,
   "metadata": {},
   "outputs": [],
   "source": [
    "def local_extraction(filepath):\n",
    "    local_df = pd.read_csv(filepath)\n",
    "    return local_df\n",
    "    "
   ]
  },
  {
   "cell_type": "code",
   "execution_count": 244,
   "metadata": {},
   "outputs": [],
   "source": [
    "local_df = local_extraction(local_credentials[0])"
   ]
  },
  {
   "cell_type": "code",
   "execution_count": 310,
   "metadata": {},
   "outputs": [],
   "source": [
    "\n",
    "def extract():\n",
    "\n",
    "    sections = [\"postgresql\", \"aws_s3\", \"csv\"]\n",
    "    credential_names = [\n",
    "        [\"database\", \"user\", \"password\", \"host\", \"port\"], \n",
    "        [\"service_name\", \"region_name\", \"aws_access_key_id\", \"aws_secret_access_key\", \"s3_bucket\"],\n",
    "        [\"source\", \"target\"]\n",
    "    ]\n",
    "\n",
    "    credentials = get_credentials(sections, credential_names)\n",
    "\n",
    "    warehouse_credentials = credentials[sections[0]]\n",
    "    datalake_credentials = credentials[sections[1]]\n",
    "    local_credentials = credentials[sections[2]]\n",
    "\n",
    "   # Postgres\n",
    "    if None not in warehouse_credentials and \"\" not in warehouse_credentials:\n",
    "        database, user, password, host, port = warehouse_credentials\n",
    "        warehouse_df = warehouse_extraction(\"IMDB_movie_data\", database, user, password, host)\n",
    "    else:\n",
    "        raise Exception(\"Extraction failed: error with DB credentials\")\n",
    "    \n",
    "    # AWS S3\n",
    "    if None not in datalake_credentials and \"\" not in datalake_credentials: \n",
    "        service_name, region_name, aws_access_key_id, aws_secret_access_key, s3_bucket = datalake_credentials\n",
    "        datalake_df = datalake_extraction(\"IMDB-Movie-Data-S3.csv\", service_name, region_name, aws_access_key_id, aws_secret_access_key, s3_bucket)\n",
    "    else:\n",
    "        raise Exception(\"Extraction failed: error with DB credentials\")\n",
    "    \n",
    "    local_df = local_extraction(local_credentials[0])\n",
    "\n",
    "    return [warehouse_df, datalake_df, local_df]\n",
    "\n",
    "def warehouse_extraction(table, database, user, password, host):\n",
    "        try:\n",
    "            # Create an engine instance\n",
    "            alchemyEngine = create_engine(f'postgresql+psycopg2://{user}:{password}@{host}/{database}', pool_recycle=3600)\n",
    "\n",
    "            # Connect to PostgreSQL server\n",
    "            dbConnection = alchemyEngine.connect()\n",
    "\n",
    "            # Read data from PostgreSQL database table and load into a DataFrame instance\n",
    "            sql = f\"select * from \\\"{table}\\\"\"\n",
    "            warehouse_df = pd.read_sql(sql, dbConnection)\n",
    "\n",
    "        finally:\n",
    "            dbConnection.close()\n",
    "        \n",
    "        return warehouse_df\n",
    "\n",
    "def datalake_extraction(file_name, service_name, region_name, aws_access_key_id, aws_secret_access_key, s3_bucket):\n",
    "    \n",
    "    s3_resource = boto3.resource(\n",
    "        service_name=service_name,\n",
    "        region_name=region_name,\n",
    "        aws_access_key_id=aws_access_key_id,\n",
    "        aws_secret_access_key=aws_secret_access_key\n",
    "    )\n",
    "\n",
    "    string_io = io.BytesIO()\n",
    "    s3_resource.Object(s3_bucket, file_name).download_fileobj(string_io)\n",
    "    s3_contents = string_io.getvalue()\n",
    "    \n",
    "    datalake_df = pd.read_csv(io.BytesIO(s3_contents))\n",
    "    \n",
    "    return datalake_df\n",
    "\n",
    "def local_extraction(filepath):\n",
    "    local_df = pd.read_csv(filepath)\n",
    "    return local_df\n",
    "    "
   ]
  },
  {
   "cell_type": "markdown",
   "metadata": {},
   "source": [
    "Manual Transform"
   ]
  },
  {
   "cell_type": "code",
   "execution_count": 173,
   "metadata": {},
   "outputs": [],
   "source": [
    "# need to set index in order to join \n",
    "extracted_warehouse_df = extracted_warehouse_df.set_index('index')"
   ]
  },
  {
   "cell_type": "code",
   "execution_count": 188,
   "metadata": {},
   "outputs": [],
   "source": [
    "# use merge function to join all three dataframes on index \n",
    "movie_data_df = pd.merge(pd.merge(extracted_datalake_df, extracted_local_df, left_index= True, right_index= True), extracted_warehouse_df, left_index= True, right_index= True)"
   ]
  },
  {
   "cell_type": "code",
   "execution_count": 175,
   "metadata": {},
   "outputs": [
    {
     "data": {
      "text/html": [
       "<div>\n",
       "<style scoped>\n",
       "    .dataframe tbody tr th:only-of-type {\n",
       "        vertical-align: middle;\n",
       "    }\n",
       "\n",
       "    .dataframe tbody tr th {\n",
       "        vertical-align: top;\n",
       "    }\n",
       "\n",
       "    .dataframe thead th {\n",
       "        text-align: right;\n",
       "    }\n",
       "</style>\n",
       "<table border=\"1\" class=\"dataframe\">\n",
       "  <thead>\n",
       "    <tr style=\"text-align: right;\">\n",
       "      <th></th>\n",
       "      <th>Title_x</th>\n",
       "      <th>Genre</th>\n",
       "      <th>Description</th>\n",
       "      <th>Director</th>\n",
       "      <th>Title_y</th>\n",
       "      <th>Rating</th>\n",
       "      <th>Votes</th>\n",
       "      <th>Revenue_Millions</th>\n",
       "      <th>Metascore</th>\n",
       "      <th>Title</th>\n",
       "      <th>Actors</th>\n",
       "      <th>Year</th>\n",
       "      <th>Runtime_Minutes</th>\n",
       "    </tr>\n",
       "  </thead>\n",
       "  <tbody>\n",
       "    <tr>\n",
       "      <th>0</th>\n",
       "      <td>Guardians of the Galaxy</td>\n",
       "      <td>Action,Adventure,Sci-Fi</td>\n",
       "      <td>A group of intergalactic criminals are forced ...</td>\n",
       "      <td>James Gunn</td>\n",
       "      <td>Guardians of the Galaxy</td>\n",
       "      <td>8.1</td>\n",
       "      <td>757074</td>\n",
       "      <td>333.13</td>\n",
       "      <td>76.0</td>\n",
       "      <td>Guardians of the Galaxy</td>\n",
       "      <td>Chris Pratt, Vin Diesel, Bradley Cooper, Zoe S...</td>\n",
       "      <td>2014</td>\n",
       "      <td>121</td>\n",
       "    </tr>\n",
       "    <tr>\n",
       "      <th>1</th>\n",
       "      <td>Prometheus</td>\n",
       "      <td>Adventure,Mystery,Sci-Fi</td>\n",
       "      <td>Following clues to the origin of mankind, a te...</td>\n",
       "      <td>Ridley Scott</td>\n",
       "      <td>Prometheus</td>\n",
       "      <td>7.0</td>\n",
       "      <td>485820</td>\n",
       "      <td>126.46</td>\n",
       "      <td>65.0</td>\n",
       "      <td>Prometheus</td>\n",
       "      <td>Noomi Rapace, Logan Marshall-Green, Michael Fa...</td>\n",
       "      <td>2012</td>\n",
       "      <td>124</td>\n",
       "    </tr>\n",
       "    <tr>\n",
       "      <th>2</th>\n",
       "      <td>Split</td>\n",
       "      <td>Horror,Thriller</td>\n",
       "      <td>Three girls are kidnapped by a man with a diag...</td>\n",
       "      <td>M. Night Shyamalan</td>\n",
       "      <td>Split</td>\n",
       "      <td>7.3</td>\n",
       "      <td>157606</td>\n",
       "      <td>138.12</td>\n",
       "      <td>62.0</td>\n",
       "      <td>Split</td>\n",
       "      <td>James McAvoy, Anya Taylor-Joy, Haley Lu Richar...</td>\n",
       "      <td>2016</td>\n",
       "      <td>117</td>\n",
       "    </tr>\n",
       "    <tr>\n",
       "      <th>3</th>\n",
       "      <td>Sing</td>\n",
       "      <td>Animation,Comedy,Family</td>\n",
       "      <td>In a city of humanoid animals, a hustling thea...</td>\n",
       "      <td>Christophe Lourdelet</td>\n",
       "      <td>Sing</td>\n",
       "      <td>7.2</td>\n",
       "      <td>60545</td>\n",
       "      <td>270.32</td>\n",
       "      <td>59.0</td>\n",
       "      <td>Sing</td>\n",
       "      <td>Matthew McConaughey,Reese Witherspoon, Seth Ma...</td>\n",
       "      <td>2016</td>\n",
       "      <td>108</td>\n",
       "    </tr>\n",
       "    <tr>\n",
       "      <th>4</th>\n",
       "      <td>Suicide Squad</td>\n",
       "      <td>Action,Adventure,Fantasy</td>\n",
       "      <td>A secret government agency recruits some of th...</td>\n",
       "      <td>David Ayer</td>\n",
       "      <td>Suicide Squad</td>\n",
       "      <td>6.2</td>\n",
       "      <td>393727</td>\n",
       "      <td>325.02</td>\n",
       "      <td>40.0</td>\n",
       "      <td>Suicide Squad</td>\n",
       "      <td>Will Smith, Jared Leto, Margot Robbie, Viola D...</td>\n",
       "      <td>2016</td>\n",
       "      <td>123</td>\n",
       "    </tr>\n",
       "  </tbody>\n",
       "</table>\n",
       "</div>"
      ],
      "text/plain": [
       "                   Title_x                     Genre                                        Description              Director                  Title_y  Rating   Votes  Revenue_Millions  Metascore                    Title                                             Actors  Year  Runtime_Minutes\n",
       "0  Guardians of the Galaxy   Action,Adventure,Sci-Fi  A group of intergalactic criminals are forced ...            James Gunn  Guardians of the Galaxy     8.1  757074            333.13       76.0  Guardians of the Galaxy  Chris Pratt, Vin Diesel, Bradley Cooper, Zoe S...  2014              121\n",
       "1               Prometheus  Adventure,Mystery,Sci-Fi  Following clues to the origin of mankind, a te...          Ridley Scott               Prometheus     7.0  485820            126.46       65.0               Prometheus  Noomi Rapace, Logan Marshall-Green, Michael Fa...  2012              124\n",
       "2                    Split           Horror,Thriller  Three girls are kidnapped by a man with a diag...    M. Night Shyamalan                    Split     7.3  157606            138.12       62.0                    Split  James McAvoy, Anya Taylor-Joy, Haley Lu Richar...  2016              117\n",
       "3                     Sing   Animation,Comedy,Family  In a city of humanoid animals, a hustling thea...  Christophe Lourdelet                     Sing     7.2   60545            270.32       59.0                     Sing  Matthew McConaughey,Reese Witherspoon, Seth Ma...  2016              108\n",
       "4            Suicide Squad  Action,Adventure,Fantasy  A secret government agency recruits some of th...            David Ayer            Suicide Squad     6.2  393727            325.02       40.0            Suicide Squad  Will Smith, Jared Leto, Margot Robbie, Viola D...  2016              123"
      ]
     },
     "execution_count": 175,
     "metadata": {},
     "output_type": "execute_result"
    }
   ],
   "source": [
    "# check joined dataframe- can see all three titles\n",
    "movie_data_df.head()"
   ]
  },
  {
   "cell_type": "code",
   "execution_count": 176,
   "metadata": {},
   "outputs": [
    {
     "name": "stdout",
     "output_type": "stream",
     "text": [
      "The join was successful\n"
     ]
    }
   ],
   "source": [
    "#compare if the join was successful if the titles match \n",
    "if movie_data_df['Title_x'].equals(movie_data_df['Title_y']) & movie_data_df['Title_x'].equals(movie_data_df['Title']) & movie_data_df['Title_y'].equals(movie_data_df['Title']):\n",
    "    print('The join was successful')\n",
    "else: \n",
    "    print('The join was unsuccessful')"
   ]
  },
  {
   "cell_type": "code",
   "execution_count": 177,
   "metadata": {},
   "outputs": [],
   "source": [
    "# check and remove unnecessary title columns \n",
    "if movie_data_df['Title_x'].equals(movie_data_df['Title_y']) & movie_data_df['Title_x'].equals(movie_data_df['Title']) & movie_data_df['Title_y'].equals(movie_data_df['Title']):\n",
    "    movie_data_df = movie_data_df.drop(['Title_y', 'Title_x'], axis= 1)\n",
    "else: \n",
    "    print('The join was unsuccessful')"
   ]
  },
  {
   "cell_type": "code",
   "execution_count": 178,
   "metadata": {},
   "outputs": [
    {
     "data": {
      "text/html": [
       "<div>\n",
       "<style scoped>\n",
       "    .dataframe tbody tr th:only-of-type {\n",
       "        vertical-align: middle;\n",
       "    }\n",
       "\n",
       "    .dataframe tbody tr th {\n",
       "        vertical-align: top;\n",
       "    }\n",
       "\n",
       "    .dataframe thead th {\n",
       "        text-align: right;\n",
       "    }\n",
       "</style>\n",
       "<table border=\"1\" class=\"dataframe\">\n",
       "  <thead>\n",
       "    <tr style=\"text-align: right;\">\n",
       "      <th></th>\n",
       "      <th>Genre</th>\n",
       "      <th>Description</th>\n",
       "      <th>Director</th>\n",
       "      <th>Rating</th>\n",
       "      <th>Votes</th>\n",
       "      <th>Revenue_Millions</th>\n",
       "      <th>Metascore</th>\n",
       "      <th>Title</th>\n",
       "      <th>Actors</th>\n",
       "      <th>Year</th>\n",
       "      <th>Runtime_Minutes</th>\n",
       "    </tr>\n",
       "  </thead>\n",
       "  <tbody>\n",
       "    <tr>\n",
       "      <th>0</th>\n",
       "      <td>Action,Adventure,Sci-Fi</td>\n",
       "      <td>A group of intergalactic criminals are forced ...</td>\n",
       "      <td>James Gunn</td>\n",
       "      <td>8.1</td>\n",
       "      <td>757074</td>\n",
       "      <td>333.13</td>\n",
       "      <td>76.0</td>\n",
       "      <td>Guardians of the Galaxy</td>\n",
       "      <td>Chris Pratt, Vin Diesel, Bradley Cooper, Zoe S...</td>\n",
       "      <td>2014</td>\n",
       "      <td>121</td>\n",
       "    </tr>\n",
       "    <tr>\n",
       "      <th>1</th>\n",
       "      <td>Adventure,Mystery,Sci-Fi</td>\n",
       "      <td>Following clues to the origin of mankind, a te...</td>\n",
       "      <td>Ridley Scott</td>\n",
       "      <td>7.0</td>\n",
       "      <td>485820</td>\n",
       "      <td>126.46</td>\n",
       "      <td>65.0</td>\n",
       "      <td>Prometheus</td>\n",
       "      <td>Noomi Rapace, Logan Marshall-Green, Michael Fa...</td>\n",
       "      <td>2012</td>\n",
       "      <td>124</td>\n",
       "    </tr>\n",
       "    <tr>\n",
       "      <th>2</th>\n",
       "      <td>Horror,Thriller</td>\n",
       "      <td>Three girls are kidnapped by a man with a diag...</td>\n",
       "      <td>M. Night Shyamalan</td>\n",
       "      <td>7.3</td>\n",
       "      <td>157606</td>\n",
       "      <td>138.12</td>\n",
       "      <td>62.0</td>\n",
       "      <td>Split</td>\n",
       "      <td>James McAvoy, Anya Taylor-Joy, Haley Lu Richar...</td>\n",
       "      <td>2016</td>\n",
       "      <td>117</td>\n",
       "    </tr>\n",
       "    <tr>\n",
       "      <th>3</th>\n",
       "      <td>Animation,Comedy,Family</td>\n",
       "      <td>In a city of humanoid animals, a hustling thea...</td>\n",
       "      <td>Christophe Lourdelet</td>\n",
       "      <td>7.2</td>\n",
       "      <td>60545</td>\n",
       "      <td>270.32</td>\n",
       "      <td>59.0</td>\n",
       "      <td>Sing</td>\n",
       "      <td>Matthew McConaughey,Reese Witherspoon, Seth Ma...</td>\n",
       "      <td>2016</td>\n",
       "      <td>108</td>\n",
       "    </tr>\n",
       "    <tr>\n",
       "      <th>4</th>\n",
       "      <td>Action,Adventure,Fantasy</td>\n",
       "      <td>A secret government agency recruits some of th...</td>\n",
       "      <td>David Ayer</td>\n",
       "      <td>6.2</td>\n",
       "      <td>393727</td>\n",
       "      <td>325.02</td>\n",
       "      <td>40.0</td>\n",
       "      <td>Suicide Squad</td>\n",
       "      <td>Will Smith, Jared Leto, Margot Robbie, Viola D...</td>\n",
       "      <td>2016</td>\n",
       "      <td>123</td>\n",
       "    </tr>\n",
       "  </tbody>\n",
       "</table>\n",
       "</div>"
      ],
      "text/plain": [
       "                      Genre                                        Description              Director  Rating   Votes  Revenue_Millions  Metascore                    Title                                             Actors  Year  Runtime_Minutes\n",
       "0   Action,Adventure,Sci-Fi  A group of intergalactic criminals are forced ...            James Gunn     8.1  757074            333.13       76.0  Guardians of the Galaxy  Chris Pratt, Vin Diesel, Bradley Cooper, Zoe S...  2014              121\n",
       "1  Adventure,Mystery,Sci-Fi  Following clues to the origin of mankind, a te...          Ridley Scott     7.0  485820            126.46       65.0               Prometheus  Noomi Rapace, Logan Marshall-Green, Michael Fa...  2012              124\n",
       "2           Horror,Thriller  Three girls are kidnapped by a man with a diag...    M. Night Shyamalan     7.3  157606            138.12       62.0                    Split  James McAvoy, Anya Taylor-Joy, Haley Lu Richar...  2016              117\n",
       "3   Animation,Comedy,Family  In a city of humanoid animals, a hustling thea...  Christophe Lourdelet     7.2   60545            270.32       59.0                     Sing  Matthew McConaughey,Reese Witherspoon, Seth Ma...  2016              108\n",
       "4  Action,Adventure,Fantasy  A secret government agency recruits some of th...            David Ayer     6.2  393727            325.02       40.0            Suicide Squad  Will Smith, Jared Leto, Margot Robbie, Viola D...  2016              123"
      ]
     },
     "execution_count": 178,
     "metadata": {},
     "output_type": "execute_result"
    }
   ],
   "source": [
    "#check new df\n",
    "movie_data_df.head()"
   ]
  },
  {
   "cell_type": "code",
   "execution_count": 180,
   "metadata": {},
   "outputs": [
    {
     "name": "stdout",
     "output_type": "stream",
     "text": [
      "<class 'pandas.core.frame.DataFrame'>\n",
      "RangeIndex: 1000 entries, 0 to 999\n",
      "Data columns (total 12 columns):\n",
      " #   Column              Non-Null Count  Dtype  \n",
      "---  ------              --------------  -----  \n",
      " 0   Rank                1000 non-null   int64  \n",
      " 1   Title               1000 non-null   object \n",
      " 2   Genre               1000 non-null   object \n",
      " 3   Description         1000 non-null   object \n",
      " 4   Director            1000 non-null   object \n",
      " 5   Actors              1000 non-null   object \n",
      " 6   Year                1000 non-null   int64  \n",
      " 7   Runtime (Minutes)   1000 non-null   int64  \n",
      " 8   Rating              1000 non-null   float64\n",
      " 9   Votes               1000 non-null   int64  \n",
      " 10  Revenue (Millions)  872 non-null    float64\n",
      " 11  Metascore           936 non-null    float64\n",
      "dtypes: float64(3), int64(4), object(5)\n",
      "memory usage: 93.9+ KB\n"
     ]
    }
   ],
   "source": [
    "check_df = pd.read_csv('data_files/IMDB-Movie-Data.csv')\n",
    "\n",
    "check_df.info()"
   ]
  },
  {
   "cell_type": "code",
   "execution_count": 181,
   "metadata": {},
   "outputs": [
    {
     "data": {
      "text/html": [
       "<div>\n",
       "<style scoped>\n",
       "    .dataframe tbody tr th:only-of-type {\n",
       "        vertical-align: middle;\n",
       "    }\n",
       "\n",
       "    .dataframe tbody tr th {\n",
       "        vertical-align: top;\n",
       "    }\n",
       "\n",
       "    .dataframe thead th {\n",
       "        text-align: right;\n",
       "    }\n",
       "</style>\n",
       "<table border=\"1\" class=\"dataframe\">\n",
       "  <thead>\n",
       "    <tr style=\"text-align: right;\">\n",
       "      <th></th>\n",
       "      <th>Rank</th>\n",
       "      <th>Revenue_Millions</th>\n",
       "      <th>Votes</th>\n",
       "      <th>Movie_count</th>\n",
       "    </tr>\n",
       "    <tr>\n",
       "      <th>Genre</th>\n",
       "      <th></th>\n",
       "      <th></th>\n",
       "      <th></th>\n",
       "      <th></th>\n",
       "    </tr>\n",
       "  </thead>\n",
       "  <tbody>\n",
       "    <tr>\n",
       "      <th>Action,Adventure,Sci-Fi</th>\n",
       "      <td>1</td>\n",
       "      <td>10461.51</td>\n",
       "      <td>18582076</td>\n",
       "      <td>50</td>\n",
       "    </tr>\n",
       "    <tr>\n",
       "      <th>Animation,Adventure,Comedy</th>\n",
       "      <td>2</td>\n",
       "      <td>5754.75</td>\n",
       "      <td>5913065</td>\n",
       "      <td>27</td>\n",
       "    </tr>\n",
       "    <tr>\n",
       "      <th>Action,Adventure,Fantasy</th>\n",
       "      <td>3</td>\n",
       "      <td>5248.29</td>\n",
       "      <td>7816851</td>\n",
       "      <td>27</td>\n",
       "    </tr>\n",
       "    <tr>\n",
       "      <th>Adventure,Family,Fantasy</th>\n",
       "      <td>4</td>\n",
       "      <td>2201.47</td>\n",
       "      <td>2640649</td>\n",
       "      <td>14</td>\n",
       "    </tr>\n",
       "    <tr>\n",
       "      <th>Comedy</th>\n",
       "      <td>5</td>\n",
       "      <td>1941.81</td>\n",
       "      <td>3685529</td>\n",
       "      <td>32</td>\n",
       "    </tr>\n",
       "    <tr>\n",
       "      <th>...</th>\n",
       "      <td>...</td>\n",
       "      <td>...</td>\n",
       "      <td>...</td>\n",
       "      <td>...</td>\n",
       "    </tr>\n",
       "    <tr>\n",
       "      <th>Animation,Drama,Romance</th>\n",
       "      <td>203</td>\n",
       "      <td>0.00</td>\n",
       "      <td>2421</td>\n",
       "      <td>1</td>\n",
       "    </tr>\n",
       "    <tr>\n",
       "      <th>Comedy,Sci-Fi</th>\n",
       "      <td>204</td>\n",
       "      <td>0.00</td>\n",
       "      <td>26587</td>\n",
       "      <td>1</td>\n",
       "    </tr>\n",
       "    <tr>\n",
       "      <th>Comedy,Western</th>\n",
       "      <td>205</td>\n",
       "      <td>0.00</td>\n",
       "      <td>31149</td>\n",
       "      <td>1</td>\n",
       "    </tr>\n",
       "    <tr>\n",
       "      <th>Drama,Family</th>\n",
       "      <td>206</td>\n",
       "      <td>0.00</td>\n",
       "      <td>177602</td>\n",
       "      <td>1</td>\n",
       "    </tr>\n",
       "    <tr>\n",
       "      <th>Thriller,War</th>\n",
       "      <td>207</td>\n",
       "      <td>0.00</td>\n",
       "      <td>5926</td>\n",
       "      <td>1</td>\n",
       "    </tr>\n",
       "  </tbody>\n",
       "</table>\n",
       "<p>207 rows × 4 columns</p>\n",
       "</div>"
      ],
      "text/plain": [
       "                            Rank  Revenue_Millions     Votes  Movie_count\n",
       "Genre                                                                    \n",
       "Action,Adventure,Sci-Fi        1          10461.51  18582076           50\n",
       "Animation,Adventure,Comedy     2           5754.75   5913065           27\n",
       "Action,Adventure,Fantasy       3           5248.29   7816851           27\n",
       "Adventure,Family,Fantasy       4           2201.47   2640649           14\n",
       "Comedy                         5           1941.81   3685529           32\n",
       "...                          ...               ...       ...          ...\n",
       "Animation,Drama,Romance      203              0.00      2421            1\n",
       "Comedy,Sci-Fi                204              0.00     26587            1\n",
       "Comedy,Western               205              0.00     31149            1\n",
       "Drama,Family                 206              0.00    177602            1\n",
       "Thriller,War                 207              0.00      5926            1\n",
       "\n",
       "[207 rows x 4 columns]"
      ]
     },
     "execution_count": 181,
     "metadata": {},
     "output_type": "execute_result"
    }
   ],
   "source": [
    "report_df = movie_data_df.groupby('Genre').agg({'Revenue_Millions': 'sum', 'Votes': 'sum', 'Genre': 'count'}).rename(columns = {'Genre': 'Movie_count'}).sort_values(by = 'Revenue_Millions', ascending = False)\n",
    "\n",
    "report_df.insert(0, 'Rank', range(1, 1 + len(report_df)))\n",
    "\n",
    "report_df"
   ]
  },
  {
   "cell_type": "code",
   "execution_count": 182,
   "metadata": {},
   "outputs": [],
   "source": [
    "writer = pd.ExcelWriter(config.get('csv', 'target'))\n",
    "report_df.to_excel(writer, sheet_name= \"Genre Ranking\")\n",
    "movie_data_df.to_excel(writer, sheet_name=\"Raw Data\")\n",
    "writer.close()"
   ]
  },
  {
   "cell_type": "code",
   "execution_count": 183,
   "metadata": {},
   "outputs": [
    {
     "name": "stdout",
     "output_type": "stream",
     "text": [
      "It worked!\n"
     ]
    }
   ],
   "source": [
    "\n",
    "## testing connection to send email\n",
    "import smtplib, ssl\n",
    "\n",
    "smtp_server = 'smtp.gmail.com'\n",
    "port = 465\n",
    "\n",
    "sender = 'jreay.data.eng@gmail.com'\n",
    "password_s = 'omnkaiawatqvatua'\n",
    "\n",
    "context = ssl.create_default_context()\n",
    "\n",
    "with smtplib.SMTP_SSL(smtp_server, port, context= context) as server:\n",
    "    server.login(sender, password_s)\n",
    "    print('It worked!')"
   ]
  },
  {
   "cell_type": "code",
   "execution_count": 15,
   "metadata": {},
   "outputs": [],
   "source": [
    "## send tester email without attachment \n",
    "\n",
    "# import smtplib, ssl\n",
    "# smtp_port = config.get('stmp', 'smtp_port')\n",
    "# smtp_server = config.get('stmp', 'smtp_server')\n",
    "# sender_email = config.get('stmp', 'smtp_sender_email')\n",
    "# receiver_email = config.get('stmp', 'smtp_receiver_email')\n",
    "# smtp_password = config.get('stmp', 'smtp_password')\n",
    "# message = \"\"\"\\\n",
    "# Subject: Hi there 3\n",
    "# Im sending an email through python code.\"\"\"\n",
    "# context = ssl.create_default_context()\n",
    "# with smtplib.SMTP(smtp_server, smtp_port) as server:\n",
    "#     server.ehlo() \n",
    "#     server.starttls(context=context)\n",
    "#     server.ehlo() \n",
    "#     server.login(sender_email, smtp_password)\n",
    "#     server.sendmail(sender_email, receiver_email, message)"
   ]
  },
  {
   "cell_type": "code",
   "execution_count": 184,
   "metadata": {},
   "outputs": [],
   "source": [
    "# Import libraries \n",
    "import smtplib\n",
    "from email.mime.text import MIMEText\n",
    "from email.mime.multipart import MIMEMultipart\n",
    "from email.mime.base import MIMEBase\n",
    "from email import encoders\n",
    "import os.path\n",
    "\n",
    "import datetime\n",
    "today_date = datetime.datetime.now().strftime('%d %b %Y')\n"
   ]
  },
  {
   "cell_type": "code",
   "execution_count": 185,
   "metadata": {},
   "outputs": [],
   "source": [
    "# add configs for smtp:\n",
    "smtp_port = config.get('stmp', 'smtp_port')\n",
    "smtp_server = config.get('stmp', 'smtp_server')\n",
    "sender_email = config.get('stmp', 'smtp_sender_email')\n",
    "receiver_email = config.get('stmp', 'smtp_receiver_email')\n",
    "smtp_password = config.get('stmp', 'smtp_password')"
   ]
  },
  {
   "cell_type": "code",
   "execution_count": 186,
   "metadata": {},
   "outputs": [],
   "source": [
    "from tabulate import tabulate\n",
    "top_5_data = [[report_df.Rank[0], report_df.index[0], report_df.Revenue_Millions[0]],\n",
    "[report_df.Rank[1], report_df.index[1], report_df.Revenue_Millions[1]],\n",
    "[report_df.Rank[2], report_df.index[2], report_df.Revenue_Millions[2]],\n",
    "[report_df.Rank[3], report_df.index[3], report_df.Revenue_Millions[3]],\n",
    "[report_df.Rank[4], report_df.index[4], report_df.Revenue_Millions[4]]]\n",
    "#print (tabulate(top_5_data, headers=[\"Rank\", \"Genre\", \"Revenue_Millions\"]))"
   ]
  },
  {
   "cell_type": "code",
   "execution_count": 187,
   "metadata": {},
   "outputs": [
    {
     "data": {
      "text/plain": [
       "(221,\n",
       " b'2.0.0 closing connection x24-20020a05600c189800b003b4727d199asm13404364wmp.15 - gsmtp')"
      ]
     },
     "execution_count": 187,
     "metadata": {},
     "output_type": "execute_result"
    }
   ],
   "source": [
    "subject = f\"Daily Profitable Genres Report for the {today_date}\"\n",
    "message = f'Hello, \\n\\n Please find the top 5 Ranked Genres for {today_date} as follows: \\n\\n {(tabulate(top_5_data, headers=[\"Rank\", \"Genre\", \"Revenue_Millions\"]))} \\n\\n I have also attached a csv file with the rest of the data. \\n\\n Kind Regards.'\n",
    "\n",
    "file_location =config.get('csv', 'target')\n",
    "\n",
    "msg = MIMEMultipart()\n",
    "msg['From'] = sender_email\n",
    "msg['To'] = receiver_email\n",
    "msg['Subject'] = subject\n",
    "\n",
    "msg.attach(MIMEText(message, 'plain'))\n",
    "\n",
    "# Setup the attachment\n",
    "filename = os.path.basename(file_location)\n",
    "attachment = open(file_location, \"rb\")\n",
    "part = MIMEBase('application', 'octet-stream')\n",
    "part.set_payload(attachment.read())\n",
    "encoders.encode_base64(part)\n",
    "part.add_header('Content-Disposition', \"attachment; filename= %s\" % filename)\n",
    "\n",
    "# Attach the attachment to the MIMEMultipart object\n",
    "msg.attach(part)\n",
    "\n",
    "server = smtplib.SMTP(smtp_server, smtp_port)\n",
    "server.starttls()\n",
    "server.login(sender_email, smtp_password)\n",
    "text = msg.as_string()\n",
    "server.sendmail(sender_email, receiver_email, text)\n",
    "server.quit()"
   ]
  }
 ],
 "metadata": {
  "kernelspec": {
   "display_name": "Python 3.10.7 64-bit (microsoft store)",
   "language": "python",
   "name": "python3"
  },
  "language_info": {
   "codemirror_mode": {
    "name": "ipython",
    "version": 3
   },
   "file_extension": ".py",
   "mimetype": "text/x-python",
   "name": "python",
   "nbconvert_exporter": "python",
   "pygments_lexer": "ipython3",
   "version": "3.10.7"
  },
  "orig_nbformat": 4,
  "vscode": {
   "interpreter": {
    "hash": "ac86d215dea9a0cdf4bbda73266032985b78d84038a3539ec44e8b053ab6c7d7"
   }
  }
 },
 "nbformat": 4,
 "nbformat_minor": 2
}

{
 "cells": [
  {
   "cell_type": "code",
   "execution_count": 2,
   "metadata": {},
   "outputs": [],
   "source": [
    "import pandas as pd\n",
    "from sqlalchemy import create_engine\n",
    "import configparser\n",
    "import io\n",
    "import boto3\n",
    "import psycopg2"
   ]
  },
  {
   "cell_type": "code",
   "execution_count": 3,
   "metadata": {},
   "outputs": [
    {
     "data": {
      "text/plain": [
       "['postgresql', 'aws_s3', 'csv']"
      ]
     },
     "execution_count": 3,
     "metadata": {},
     "output_type": "execute_result"
    }
   ],
   "source": [
    "config = configparser.ConfigParser()\n",
    "\n",
    "# read the configuration file\n",
    "config.read('multi_config.ini')\n",
    "\n",
    "# get all the connections\n",
    "config.sections()"
   ]
  },
  {
   "cell_type": "code",
   "execution_count": 4,
   "metadata": {},
   "outputs": [
    {
     "name": "stdout",
     "output_type": "stream",
     "text": [
      "Authentication successful \n",
      "\n",
      "The database is \"film_data\" and the service_name is \"s3\"\n"
     ]
    }
   ],
   "source": [
    "'''\n",
    "Authenticate the Postgres and S3 database by getting the credentials from the config file\n",
    "'''\n",
    "database = config.get('postgresql', 'database')\n",
    "user = config.get('postgresql', 'user')\n",
    "password = config.get('postgresql', 'password')\n",
    "host = config.get('postgresql', 'host')\n",
    "port = config.get('postgresql', 'port')\n",
    "\n",
    "# AWS Credentials\n",
    "service_name = config.get('aws_s3', 'service_name')\n",
    "region_name = config.get('aws_s3', 'region_name')\n",
    "aws_access_key_id = config.get('aws_s3', 'aws_access_key_id')\n",
    "aws_secret_access_key = config.get('aws_s3', 'aws_secret_access_key')\n",
    "s3_bucket = config.get('aws_s3', 's3_bucket')\n",
    "\n",
    "# Weather API Credentials\n",
    "print(\"Authentication successful \\n\")\n",
    "print(f'The database is \"{database}\" and the service_name is \"{service_name}\"')"
   ]
  },
  {
   "cell_type": "code",
   "execution_count": null,
   "metadata": {},
   "outputs": [],
   "source": [
    "\n"
   ]
  }
 ],
 "metadata": {
  "kernelspec": {
   "display_name": "Python 3.10.7 64-bit (microsoft store)",
   "language": "python",
   "name": "python3"
  },
  "language_info": {
   "codemirror_mode": {
    "name": "ipython",
    "version": 3
   },
   "file_extension": ".py",
   "mimetype": "text/x-python",
   "name": "python",
   "nbconvert_exporter": "python",
   "pygments_lexer": "ipython3",
   "version": "3.10.7"
  },
  "orig_nbformat": 4,
  "vscode": {
   "interpreter": {
    "hash": "ac86d215dea9a0cdf4bbda73266032985b78d84038a3539ec44e8b053ab6c7d7"
   }
  }
 },
 "nbformat": 4,
 "nbformat_minor": 2
}
